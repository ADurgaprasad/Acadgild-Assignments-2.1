{
 "cells": [
  {
   "cell_type": "code",
   "execution_count": 8,
   "metadata": {},
   "outputs": [
    {
     "name": "stdout",
     "output_type": "stream",
     "text": [
      "60\n"
     ]
    }
   ],
   "source": [
    "def myreduce(fnc,seq):\n",
    "    tally=seq[0]\n",
    "    for i in seq[1:]:\n",
    "        tally=fnc(tally,i)\n",
    "    return tally\n",
    "print(myreduce((lambda x,y:x*y),[1,2,3,10]))"
   ]
  },
  {
   "cell_type": "code",
   "execution_count": 7,
   "metadata": {},
   "outputs": [
    {
     "name": "stdout",
     "output_type": "stream",
     "text": [
      "[-1, -3, -5]\n"
     ]
    }
   ],
   "source": [
    "#myfilter to filter negative values\n",
    "def myfilter(fn,seq):\n",
    "    lst=[]\n",
    "    for i in seq:\n",
    "        if fn(i):\n",
    "            lst.append(i)\n",
    "    return lst\n",
    "\n",
    "print(myfilter((lambda x:x<0),[0,-1,2,-3,4,-5,6]))"
   ]
  },
  {
   "cell_type": "code",
   "execution_count": null,
   "metadata": {},
   "outputs": [],
   "source": []
  }
 ],
 "metadata": {
  "kernelspec": {
   "display_name": "Python 3",
   "language": "python",
   "name": "python3"
  },
  "language_info": {
   "codemirror_mode": {
    "name": "ipython",
    "version": 3
   },
   "file_extension": ".py",
   "mimetype": "text/x-python",
   "name": "python",
   "nbconvert_exporter": "python",
   "pygments_lexer": "ipython3",
   "version": "3.6.4"
  }
 },
 "nbformat": 4,
 "nbformat_minor": 2
}
